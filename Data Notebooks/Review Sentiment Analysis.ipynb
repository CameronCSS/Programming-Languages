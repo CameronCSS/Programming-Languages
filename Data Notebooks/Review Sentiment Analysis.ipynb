{
 "cells": [
  {
   "cell_type": "code",
   "execution_count": 5,
   "metadata": {},
   "outputs": [
    {
     "name": "stderr",
     "output_type": "stream",
     "text": [
      "[nltk_data] Downloading package punkt to\n",
      "[nltk_data]     C:\\Users\\leaf3\\AppData\\Roaming\\nltk_data...\n",
      "[nltk_data]   Package punkt is already up-to-date!\n"
     ]
    },
    {
     "data": {
      "text/plain": [
       "True"
      ]
     },
     "execution_count": 5,
     "metadata": {},
     "output_type": "execute_result"
    }
   ],
   "source": [
    "import pandas as pd\n",
    "import numpy as np\n",
    "import matplotlib.pyplot as plt\n",
    "import seaborn as sns\n",
    "\n",
    "plt.style.use('ggplot')\n",
    "\n",
    "import nltk\n",
    "nltk.download('punkt')"
   ]
  },
  {
   "cell_type": "code",
   "execution_count": 6,
   "metadata": {},
   "outputs": [
    {
     "name": "stdout",
     "output_type": "stream",
     "text": [
      "(430, 5)\n"
     ]
    }
   ],
   "source": [
    "df = pd.read_csv(r\"F:\\Prices\\reviews.csv\")\n",
    "print(df.shape)"
   ]
  },
  {
   "cell_type": "code",
   "execution_count": 7,
   "metadata": {},
   "outputs": [
    {
     "data": {
      "image/png": "[encoded data removed]",
      "text/plain": [
       "<Figure size 1000x500 with 1 Axes>"
      ]
     },
     "metadata": {},
     "output_type": "display_data"
    }
   ],
   "source": [
    "ax = df['Rating'].value_counts().sort_index() \\\n",
    "    .plot(kind='bar',\n",
    "          title='Ratings Count',\n",
    "          figsize=(10, 5))\n",
    "ax.set_xlabel('Review Stars')\n",
    "plt.show()"
   ]
  },
  {
   "cell_type": "code",
   "execution_count": 8,
   "metadata": {},
   "outputs": [
    {
     "name": "stdout",
     "output_type": "stream",
     "text": [
      "Amazing style, quality and price! I am beyond happy. Thank you\n"
     ]
    }
   ],
   "source": [
    "example = df['Review'][25]\n",
    "print(example)"
   ]
  },
  {
   "cell_type": "code",
   "execution_count": 9,
   "metadata": {},
   "outputs": [
    {
     "data": {
      "text/plain": [
       "['Amazing',\n",
       " 'style',\n",
       " ',',\n",
       " 'quality',\n",
       " 'and',\n",
       " 'price',\n",
       " '!',\n",
       " 'I',\n",
       " 'am',\n",
       " 'beyond',\n",
       " 'happy',\n",
       " '.',\n",
       " 'Thank',\n",
       " 'you']"
      ]
     },
     "execution_count": 9,
     "metadata": {},
     "output_type": "execute_result"
    }
   ],
   "source": [
    "# Run First - nltk.download('punkt')\n",
    "tokens = nltk.word_tokenize(example)\n",
    "tokens[:20]"
   ]
  },
  {
   "cell_type": "code",
   "execution_count": 10,
   "metadata": {},
   "outputs": [
    {
     "data": {
      "text/plain": [
       "[('Amazing', 'JJ'),\n",
       " ('style', 'NN'),\n",
       " (',', ','),\n",
       " ('quality', 'NN'),\n",
       " ('and', 'CC'),\n",
       " ('price', 'NN'),\n",
       " ('!', '.'),\n",
       " ('I', 'PRP'),\n",
       " ('am', 'VBP'),\n",
       " ('beyond', 'IN'),\n",
       " ('happy', 'JJ'),\n",
       " ('.', '.'),\n",
       " ('Thank', 'NN'),\n",
       " ('you', 'PRP')]"
      ]
     },
     "execution_count": 10,
     "metadata": {},
     "output_type": "execute_result"
    }
   ],
   "source": [
    "# Run First - nltk.download('averaged_perceptron_tagger')\n",
    "\n",
    "tagged = nltk.pos_tag(tokens)\n",
    "tagged[:20]"
   ]
  },
  {
   "cell_type": "code",
   "execution_count": 11,
   "metadata": {},
   "outputs": [
    {
     "name": "stdout",
     "output_type": "stream",
     "text": [
      "(S\n",
      "  Amazing/JJ\n",
      "  style/NN\n",
      "  ,/,\n",
      "  quality/NN\n",
      "  and/CC\n",
      "  price/NN\n",
      "  !/.\n",
      "  I/PRP\n",
      "  am/VBP\n",
      "  beyond/IN\n",
      "  happy/JJ\n",
      "  ./.\n",
      "  Thank/NN\n",
      "  you/PRP)\n"
     ]
    }
   ],
   "source": [
    "# Run First - nltk.download('maxent_ne_chunker')\n",
    "# Run First - nltk.download('words')\n",
    "\n",
    "entities = nltk.chunk.ne_chunk(tagged)\n",
    "entities.pprint()"
   ]
  },
  {
   "cell_type": "code",
   "execution_count": 12,
   "metadata": {},
   "outputs": [],
   "source": [
    "# Using Vader\n",
    "# VADER - VADER (Valence Aware Dictionary and sEntiment Reasoner)\n",
    "\n",
    "# Run First - nltk.download('vader_lexicon')\n",
    "\n",
    "from nltk.sentiment import SentimentIntensityAnalyzer\n",
    "from tqdm.notebook import tqdm\n",
    "\n",
    "sia = SentimentIntensityAnalyzer()"
   ]
  },
  {
   "cell_type": "code",
   "execution_count": 13,
   "metadata": {},
   "outputs": [
    {
     "data": {
      "text/plain": [
       "{'neg': 0.0, 'neu': 0.318, 'pos': 0.682, 'compound': 0.6468}"
      ]
     },
     "execution_count": 13,
     "metadata": {},
     "output_type": "execute_result"
    }
   ],
   "source": [
    "# Test Positive Sentence\n",
    "\n",
    "sia.polarity_scores('I am so happy!')"
   ]
  },
  {
   "cell_type": "code",
   "execution_count": 30,
   "metadata": {},
   "outputs": [
    {
     "data": {
      "text/plain": [
       "{'neg': 0.451, 'neu': 0.549, 'pos': 0.0, 'compound': -0.6249}"
      ]
     },
     "execution_count": 30,
     "metadata": {},
     "output_type": "execute_result"
    }
   ],
   "source": [
    "# Test Negative Sentence\n",
    "\n",
    "sia.polarity_scores('This is the worst thing ever.')"
   ]
  },
  {
   "cell_type": "code",
   "execution_count": 14,
   "metadata": {},
   "outputs": [
    {
     "name": "stdout",
     "output_type": "stream",
     "text": [
      "Reveiw: Amazing style, quality and price! I am beyond happy. Thank you\n"
     ]
    },
    {
     "data": {
      "text/plain": [
       "{'neg': 0.0, 'neu': 0.405, 'pos': 0.595, 'compound': 0.8832}"
      ]
     },
     "execution_count": 14,
     "metadata": {},
     "output_type": "execute_result"
    }
   ],
   "source": [
    "# Testing our sentence\n",
    "\n",
    "print(f\"Reveiw: {example}\")\n",
    "sia.polarity_scores(example)"
   ]
  },
  {
   "cell_type": "code",
   "execution_count": 15,
   "metadata": {},
   "outputs": [
    {
     "data": {
      "text/html": [
       "<div>\n",
       "<style scoped>\n",
       "    .dataframe tbody tr th:only-of-type {\n",
       "        vertical-align: middle;\n",
       "    }\n",
       "\n",
       "    .dataframe tbody tr th {\n",
       "        vertical-align: top;\n",
       "    }\n",
       "\n",
       "    .dataframe thead th {\n",
       "        text-align: right;\n",
       "    }\n",
       "</style>\n",
       "<table border=\"1\" class=\"dataframe\">\n",
       "  <thead>\n",
       "    <tr style=\"text-align: right;\">\n",
       "      <th></th>\n",
       "      <th>Website</th>\n",
       "      <th>Sku</th>\n",
       "      <th>Rating</th>\n",
       "      <th>Review</th>\n",
       "      <th>Date Added</th>\n",
       "    </tr>\n",
       "  </thead>\n",
       "  <tbody>\n",
       "    <tr>\n",
       "      <th>0</th>\n",
       "      <td>Livingspaces</td>\n",
       "      <td>248772</td>\n",
       "      <td>4.6</td>\n",
       "      <td>Clean look, quality piece. Great upgrade to th...</td>\n",
       "      <td>06/18/2023</td>\n",
       "    </tr>\n",
       "    <tr>\n",
       "      <th>1</th>\n",
       "      <td>Livingspaces</td>\n",
       "      <td>248772</td>\n",
       "      <td>4.6</td>\n",
       "      <td>I love how modern this nightstand is. I got th...</td>\n",
       "      <td>06/18/2023</td>\n",
       "    </tr>\n",
       "    <tr>\n",
       "      <th>2</th>\n",
       "      <td>Livingspaces</td>\n",
       "      <td>248772</td>\n",
       "      <td>4.6</td>\n",
       "      <td>Great service. They found just what I was look...</td>\n",
       "      <td>06/18/2023</td>\n",
       "    </tr>\n",
       "    <tr>\n",
       "      <th>3</th>\n",
       "      <td>Livingspaces</td>\n",
       "      <td>248772</td>\n",
       "      <td>4.6</td>\n",
       "      <td>Love this spacious and beautiful nightstand! T...</td>\n",
       "      <td>06/18/2023</td>\n",
       "    </tr>\n",
       "    <tr>\n",
       "      <th>4</th>\n",
       "      <td>Livingspaces</td>\n",
       "      <td>248772</td>\n",
       "      <td>4.6</td>\n",
       "      <td>Spacious and modern! Goes with my Grey bed as ...</td>\n",
       "      <td>06/18/2023</td>\n",
       "    </tr>\n",
       "    <tr>\n",
       "      <th>...</th>\n",
       "      <td>...</td>\n",
       "      <td>...</td>\n",
       "      <td>...</td>\n",
       "      <td>...</td>\n",
       "      <td>...</td>\n",
       "    </tr>\n",
       "    <tr>\n",
       "      <th>425</th>\n",
       "      <td>Rcwilley</td>\n",
       "      <td>1770357</td>\n",
       "      <td>5.0</td>\n",
       "      <td>I actually enjoy having this in my room. It br...</td>\n",
       "      <td>06/19/2023</td>\n",
       "    </tr>\n",
       "    <tr>\n",
       "      <th>426</th>\n",
       "      <td>Rcwilley</td>\n",
       "      <td>1770357</td>\n",
       "      <td>5.0</td>\n",
       "      <td>Drawers are roomy and deep. Slide nicely and q...</td>\n",
       "      <td>06/19/2023</td>\n",
       "    </tr>\n",
       "    <tr>\n",
       "      <th>427</th>\n",
       "      <td>Rcwilley</td>\n",
       "      <td>1770357</td>\n",
       "      <td>5.0</td>\n",
       "      <td>Very nice look, drawers open and close with ea...</td>\n",
       "      <td>06/19/2023</td>\n",
       "    </tr>\n",
       "    <tr>\n",
       "      <th>428</th>\n",
       "      <td>Rcwilley</td>\n",
       "      <td>1770357</td>\n",
       "      <td>5.0</td>\n",
       "      <td>Beautiful design. The built-in charging statio...</td>\n",
       "      <td>06/19/2023</td>\n",
       "    </tr>\n",
       "    <tr>\n",
       "      <th>429</th>\n",
       "      <td>Rcwilley</td>\n",
       "      <td>1770357</td>\n",
       "      <td>4.0</td>\n",
       "      <td>I chose this dresser after comparing it with o...</td>\n",
       "      <td>06/19/2023</td>\n",
       "    </tr>\n",
       "  </tbody>\n",
       "</table>\n",
       "<p>430 rows × 5 columns</p>\n",
       "</div>"
      ],
      "text/plain": [
       "          Website      Sku  Rating  \\\n",
       "0    Livingspaces   248772     4.6   \n",
       "1    Livingspaces   248772     4.6   \n",
       "2    Livingspaces   248772     4.6   \n",
       "3    Livingspaces   248772     4.6   \n",
       "4    Livingspaces   248772     4.6   \n",
       "..            ...      ...     ...   \n",
       "425      Rcwilley  1770357     5.0   \n",
       "426      Rcwilley  1770357     5.0   \n",
       "427      Rcwilley  1770357     5.0   \n",
       "428      Rcwilley  1770357     5.0   \n",
       "429      Rcwilley  1770357     4.0   \n",
       "\n",
       "                                                Review  Date Added  \n",
       "0    Clean look, quality piece. Great upgrade to th...  06/18/2023  \n",
       "1    I love how modern this nightstand is. I got th...  06/18/2023  \n",
       "2    Great service. They found just what I was look...  06/18/2023  \n",
       "3    Love this spacious and beautiful nightstand! T...  06/18/2023  \n",
       "4    Spacious and modern! Goes with my Grey bed as ...  06/18/2023  \n",
       "..                                                 ...         ...  \n",
       "425  I actually enjoy having this in my room. It br...  06/19/2023  \n",
       "426  Drawers are roomy and deep. Slide nicely and q...  06/19/2023  \n",
       "427  Very nice look, drawers open and close with ea...  06/19/2023  \n",
       "428  Beautiful design. The built-in charging statio...  06/19/2023  \n",
       "429  I chose this dresser after comparing it with o...  06/19/2023  \n",
       "\n",
       "[430 rows x 5 columns]"
      ]
     },
     "execution_count": 15,
     "metadata": {},
     "output_type": "execute_result"
    }
   ],
   "source": [
    "df"
   ]
  },
  {
   "cell_type": "code",
   "execution_count": 16,
   "metadata": {},
   "outputs": [
    {
     "data": {
      "application/vnd.jupyter.widget-view+json": {
       "model_id": "39ea69a1236f4c51946b13000dbcc35a",
       "version_major": 2,
       "version_minor": 0
      },
      "text/plain": [
       "  0%|          | 0/430 [00:00<?, ?it/s]"
      ]
     },
     "metadata": {},
     "output_type": "display_data"
    }
   ],
   "source": [
    "# Run the polarity score on the entire dataset\n",
    "# Using a progress bar to show proccessing progress.\n",
    "\n",
    "res = {}\n",
    "for i, row in tqdm(df.iterrows(), total=len(df)):\n",
    "    text = row['Review']\n",
    "    myid = i  # Use the DataFrame index as the identifier\n",
    "    res[myid] = sia.polarity_scores(text)"
   ]
  },
  {
   "cell_type": "code",
   "execution_count": 18,
   "metadata": {},
   "outputs": [
    {
     "data": {
      "text/html": [
       "<div>\n",
       "<style scoped>\n",
       "    .dataframe tbody tr th:only-of-type {\n",
       "        vertical-align: middle;\n",
       "    }\n",
       "\n",
       "    .dataframe tbody tr th {\n",
       "        vertical-align: top;\n",
       "    }\n",
       "\n",
       "    .dataframe thead th {\n",
       "        text-align: right;\n",
       "    }\n",
       "</style>\n",
       "<table border=\"1\" class=\"dataframe\">\n",
       "  <thead>\n",
       "    <tr style=\"text-align: right;\">\n",
       "      <th></th>\n",
       "      <th>neg</th>\n",
       "      <th>neu</th>\n",
       "      <th>pos</th>\n",
       "      <th>compound</th>\n",
       "    </tr>\n",
       "  </thead>\n",
       "  <tbody>\n",
       "    <tr>\n",
       "      <th>0</th>\n",
       "      <td>0.000</td>\n",
       "      <td>0.507</td>\n",
       "      <td>0.493</td>\n",
       "      <td>0.7783</td>\n",
       "    </tr>\n",
       "    <tr>\n",
       "      <th>1</th>\n",
       "      <td>0.000</td>\n",
       "      <td>0.641</td>\n",
       "      <td>0.359</td>\n",
       "      <td>0.8555</td>\n",
       "    </tr>\n",
       "    <tr>\n",
       "      <th>2</th>\n",
       "      <td>0.000</td>\n",
       "      <td>0.619</td>\n",
       "      <td>0.381</td>\n",
       "      <td>0.8126</td>\n",
       "    </tr>\n",
       "    <tr>\n",
       "      <th>3</th>\n",
       "      <td>0.000</td>\n",
       "      <td>0.682</td>\n",
       "      <td>0.318</td>\n",
       "      <td>0.8553</td>\n",
       "    </tr>\n",
       "    <tr>\n",
       "      <th>4</th>\n",
       "      <td>0.000</td>\n",
       "      <td>0.923</td>\n",
       "      <td>0.077</td>\n",
       "      <td>0.1260</td>\n",
       "    </tr>\n",
       "    <tr>\n",
       "      <th>...</th>\n",
       "      <td>...</td>\n",
       "      <td>...</td>\n",
       "      <td>...</td>\n",
       "      <td>...</td>\n",
       "    </tr>\n",
       "    <tr>\n",
       "      <th>425</th>\n",
       "      <td>0.000</td>\n",
       "      <td>0.704</td>\n",
       "      <td>0.296</td>\n",
       "      <td>0.8126</td>\n",
       "    </tr>\n",
       "    <tr>\n",
       "      <th>426</th>\n",
       "      <td>0.000</td>\n",
       "      <td>0.632</td>\n",
       "      <td>0.368</td>\n",
       "      <td>0.7906</td>\n",
       "    </tr>\n",
       "    <tr>\n",
       "      <th>427</th>\n",
       "      <td>0.000</td>\n",
       "      <td>0.551</td>\n",
       "      <td>0.449</td>\n",
       "      <td>0.8381</td>\n",
       "    </tr>\n",
       "    <tr>\n",
       "      <th>428</th>\n",
       "      <td>0.000</td>\n",
       "      <td>0.698</td>\n",
       "      <td>0.302</td>\n",
       "      <td>0.5994</td>\n",
       "    </tr>\n",
       "    <tr>\n",
       "      <th>429</th>\n",
       "      <td>0.032</td>\n",
       "      <td>0.815</td>\n",
       "      <td>0.153</td>\n",
       "      <td>0.8591</td>\n",
       "    </tr>\n",
       "  </tbody>\n",
       "</table>\n",
       "<p>430 rows × 4 columns</p>\n",
       "</div>"
      ],
      "text/plain": [
       "       neg    neu    pos  compound\n",
       "0    0.000  0.507  0.493    0.7783\n",
       "1    0.000  0.641  0.359    0.8555\n",
       "2    0.000  0.619  0.381    0.8126\n",
       "3    0.000  0.682  0.318    0.8553\n",
       "4    0.000  0.923  0.077    0.1260\n",
       "..     ...    ...    ...       ...\n",
       "425  0.000  0.704  0.296    0.8126\n",
       "426  0.000  0.632  0.368    0.7906\n",
       "427  0.000  0.551  0.449    0.8381\n",
       "428  0.000  0.698  0.302    0.5994\n",
       "429  0.032  0.815  0.153    0.8591\n",
       "\n",
       "[430 rows x 4 columns]"
      ]
     },
     "execution_count": 18,
     "metadata": {},
     "output_type": "execute_result"
    }
   ],
   "source": [
    "pd.DataFrame(res).T"
   ]
  },
  {
   "cell_type": "code",
   "execution_count": 19,
   "metadata": {},
   "outputs": [],
   "source": [
    "# Since I am dumb and didnt add an ID column into my data\n",
    "# We are using our df index to mrege\n",
    "\n",
    "vaders = pd.DataFrame(res).T\n",
    "vaders = vaders.reset_index().rename(columns={'index': 'Id'})\n",
    "merged_df = df.merge(vaders, how='left', left_index=True, right_index=True)\n",
    "vaders = merged_df\n"
   ]
  },
  {
   "cell_type": "code",
   "execution_count": 20,
   "metadata": {},
   "outputs": [
    {
     "data": {
      "text/html": [
       "<div>\n",
       "<style scoped>\n",
       "    .dataframe tbody tr th:only-of-type {\n",
       "        vertical-align: middle;\n",
       "    }\n",
       "\n",
       "    .dataframe tbody tr th {\n",
       "        vertical-align: top;\n",
       "    }\n",
       "\n",
       "    .dataframe thead th {\n",
       "        text-align: right;\n",
       "    }\n",
       "</style>\n",
       "<table border=\"1\" class=\"dataframe\">\n",
       "  <thead>\n",
       "    <tr style=\"text-align: right;\">\n",
       "      <th></th>\n",
       "      <th>Website</th>\n",
       "      <th>Sku</th>\n",
       "      <th>Rating</th>\n",
       "      <th>Review</th>\n",
       "      <th>Date Added</th>\n",
       "      <th>Id</th>\n",
       "      <th>neg</th>\n",
       "      <th>neu</th>\n",
       "      <th>pos</th>\n",
       "      <th>compound</th>\n",
       "    </tr>\n",
       "  </thead>\n",
       "  <tbody>\n",
       "    <tr>\n",
       "      <th>0</th>\n",
       "      <td>Livingspaces</td>\n",
       "      <td>248772</td>\n",
       "      <td>4.6</td>\n",
       "      <td>Clean look, quality piece. Great upgrade to th...</td>\n",
       "      <td>06/18/2023</td>\n",
       "      <td>0</td>\n",
       "      <td>0.000</td>\n",
       "      <td>0.507</td>\n",
       "      <td>0.493</td>\n",
       "      <td>0.7783</td>\n",
       "    </tr>\n",
       "    <tr>\n",
       "      <th>1</th>\n",
       "      <td>Livingspaces</td>\n",
       "      <td>248772</td>\n",
       "      <td>4.6</td>\n",
       "      <td>I love how modern this nightstand is. I got th...</td>\n",
       "      <td>06/18/2023</td>\n",
       "      <td>1</td>\n",
       "      <td>0.000</td>\n",
       "      <td>0.641</td>\n",
       "      <td>0.359</td>\n",
       "      <td>0.8555</td>\n",
       "    </tr>\n",
       "    <tr>\n",
       "      <th>2</th>\n",
       "      <td>Livingspaces</td>\n",
       "      <td>248772</td>\n",
       "      <td>4.6</td>\n",
       "      <td>Great service. They found just what I was look...</td>\n",
       "      <td>06/18/2023</td>\n",
       "      <td>2</td>\n",
       "      <td>0.000</td>\n",
       "      <td>0.619</td>\n",
       "      <td>0.381</td>\n",
       "      <td>0.8126</td>\n",
       "    </tr>\n",
       "    <tr>\n",
       "      <th>3</th>\n",
       "      <td>Livingspaces</td>\n",
       "      <td>248772</td>\n",
       "      <td>4.6</td>\n",
       "      <td>Love this spacious and beautiful nightstand! T...</td>\n",
       "      <td>06/18/2023</td>\n",
       "      <td>3</td>\n",
       "      <td>0.000</td>\n",
       "      <td>0.682</td>\n",
       "      <td>0.318</td>\n",
       "      <td>0.8553</td>\n",
       "    </tr>\n",
       "    <tr>\n",
       "      <th>4</th>\n",
       "      <td>Livingspaces</td>\n",
       "      <td>248772</td>\n",
       "      <td>4.6</td>\n",
       "      <td>Spacious and modern! Goes with my Grey bed as ...</td>\n",
       "      <td>06/18/2023</td>\n",
       "      <td>4</td>\n",
       "      <td>0.000</td>\n",
       "      <td>0.923</td>\n",
       "      <td>0.077</td>\n",
       "      <td>0.1260</td>\n",
       "    </tr>\n",
       "    <tr>\n",
       "      <th>...</th>\n",
       "      <td>...</td>\n",
       "      <td>...</td>\n",
       "      <td>...</td>\n",
       "      <td>...</td>\n",
       "      <td>...</td>\n",
       "      <td>...</td>\n",
       "      <td>...</td>\n",
       "      <td>...</td>\n",
       "      <td>...</td>\n",
       "      <td>...</td>\n",
       "    </tr>\n",
       "    <tr>\n",
       "      <th>425</th>\n",
       "      <td>Rcwilley</td>\n",
       "      <td>1770357</td>\n",
       "      <td>5.0</td>\n",
       "      <td>I actually enjoy having this in my room. It br...</td>\n",
       "      <td>06/19/2023</td>\n",
       "      <td>425</td>\n",
       "      <td>0.000</td>\n",
       "      <td>0.704</td>\n",
       "      <td>0.296</td>\n",
       "      <td>0.8126</td>\n",
       "    </tr>\n",
       "    <tr>\n",
       "      <th>426</th>\n",
       "      <td>Rcwilley</td>\n",
       "      <td>1770357</td>\n",
       "      <td>5.0</td>\n",
       "      <td>Drawers are roomy and deep. Slide nicely and q...</td>\n",
       "      <td>06/19/2023</td>\n",
       "      <td>426</td>\n",
       "      <td>0.000</td>\n",
       "      <td>0.632</td>\n",
       "      <td>0.368</td>\n",
       "      <td>0.7906</td>\n",
       "    </tr>\n",
       "    <tr>\n",
       "      <th>427</th>\n",
       "      <td>Rcwilley</td>\n",
       "      <td>1770357</td>\n",
       "      <td>5.0</td>\n",
       "      <td>Very nice look, drawers open and close with ea...</td>\n",
       "      <td>06/19/2023</td>\n",
       "      <td>427</td>\n",
       "      <td>0.000</td>\n",
       "      <td>0.551</td>\n",
       "      <td>0.449</td>\n",
       "      <td>0.8381</td>\n",
       "    </tr>\n",
       "    <tr>\n",
       "      <th>428</th>\n",
       "      <td>Rcwilley</td>\n",
       "      <td>1770357</td>\n",
       "      <td>5.0</td>\n",
       "      <td>Beautiful design. The built-in charging statio...</td>\n",
       "      <td>06/19/2023</td>\n",
       "      <td>428</td>\n",
       "      <td>0.000</td>\n",
       "      <td>0.698</td>\n",
       "      <td>0.302</td>\n",
       "      <td>0.5994</td>\n",
       "    </tr>\n",
       "    <tr>\n",
       "      <th>429</th>\n",
       "      <td>Rcwilley</td>\n",
       "      <td>1770357</td>\n",
       "      <td>4.0</td>\n",
       "      <td>I chose this dresser after comparing it with o...</td>\n",
       "      <td>06/19/2023</td>\n",
       "      <td>429</td>\n",
       "      <td>0.032</td>\n",
       "      <td>0.815</td>\n",
       "      <td>0.153</td>\n",
       "      <td>0.8591</td>\n",
       "    </tr>\n",
       "  </tbody>\n",
       "</table>\n",
       "<p>430 rows × 10 columns</p>\n",
       "</div>"
      ],
      "text/plain": [
       "          Website      Sku  Rating  \\\n",
       "0    Livingspaces   248772     4.6   \n",
       "1    Livingspaces   248772     4.6   \n",
       "2    Livingspaces   248772     4.6   \n",
       "3    Livingspaces   248772     4.6   \n",
       "4    Livingspaces   248772     4.6   \n",
       "..            ...      ...     ...   \n",
       "425      Rcwilley  1770357     5.0   \n",
       "426      Rcwilley  1770357     5.0   \n",
       "427      Rcwilley  1770357     5.0   \n",
       "428      Rcwilley  1770357     5.0   \n",
       "429      Rcwilley  1770357     4.0   \n",
       "\n",
       "                                                Review  Date Added   Id  \\\n",
       "0    Clean look, quality piece. Great upgrade to th...  06/18/2023    0   \n",
       "1    I love how modern this nightstand is. I got th...  06/18/2023    1   \n",
       "2    Great service. They found just what I was look...  06/18/2023    2   \n",
       "3    Love this spacious and beautiful nightstand! T...  06/18/2023    3   \n",
       "4    Spacious and modern! Goes with my Grey bed as ...  06/18/2023    4   \n",
       "..                                                 ...         ...  ...   \n",
       "425  I actually enjoy having this in my room. It br...  06/19/2023  425   \n",
       "426  Drawers are roomy and deep. Slide nicely and q...  06/19/2023  426   \n",
       "427  Very nice look, drawers open and close with ea...  06/19/2023  427   \n",
       "428  Beautiful design. The built-in charging statio...  06/19/2023  428   \n",
       "429  I chose this dresser after comparing it with o...  06/19/2023  429   \n",
       "\n",
       "       neg    neu    pos  compound  \n",
       "0    0.000  0.507  0.493    0.7783  \n",
       "1    0.000  0.641  0.359    0.8555  \n",
       "2    0.000  0.619  0.381    0.8126  \n",
       "3    0.000  0.682  0.318    0.8553  \n",
       "4    0.000  0.923  0.077    0.1260  \n",
       "..     ...    ...    ...       ...  \n",
       "425  0.000  0.704  0.296    0.8126  \n",
       "426  0.000  0.632  0.368    0.7906  \n",
       "427  0.000  0.551  0.449    0.8381  \n",
       "428  0.000  0.698  0.302    0.5994  \n",
       "429  0.032  0.815  0.153    0.8591  \n",
       "\n",
       "[430 rows x 10 columns]"
      ]
     },
     "execution_count": 20,
     "metadata": {},
     "output_type": "execute_result"
    }
   ],
   "source": [
    "vaders\n"
   ]
  },
  {
   "cell_type": "code",
   "execution_count": 21,
   "metadata": {},
   "outputs": [
    {
     "data": {
      "image/png": "[encoded data removed]",
      "text/plain": [
       "<Figure size 640x480 with 1 Axes>"
      ]
     },
     "metadata": {},
     "output_type": "display_data"
    }
   ],
   "source": [
    "ax = sns.barplot(data=vaders, x='Rating', y='compound')\n",
    "ax.set_title('Compund Review Score')\n",
    "plt.show()"
   ]
  },
  {
   "cell_type": "code",
   "execution_count": 22,
   "metadata": {},
   "outputs": [
    {
     "data": {
      "image/png": "[encoded data removed]",
      "text/plain": [
       "<Figure size 1200x300 with 3 Axes>"
      ]
     },
     "metadata": {},
     "output_type": "display_data"
    }
   ],
   "source": [
    "fig, axs = plt.subplots(1, 3, figsize=(12, 3))\n",
    "sns.barplot(data=vaders, x='Rating', y='pos', ax=axs[0])\n",
    "sns.barplot(data=vaders, x='Rating', y='neu', ax=axs[1])\n",
    "sns.barplot(data=vaders, x='Rating', y='neg', ax=axs[2])\n",
    "axs[0].set_title('Positive')\n",
    "axs[1].set_title('Neutral')\n",
    "axs[2].set_title('Negative')\n",
    "plt.tight_layout()\n",
    "plt.show()"
   ]
  },
  {
   "cell_type": "code",
   "execution_count": 23,
   "metadata": {},
   "outputs": [
    {
     "data": {
      "image/png": "[encoded data removed]",
      "text/plain": [
       "<Figure size 1200x600 with 6 Axes>"
      ]
     },
     "metadata": {},
     "output_type": "display_data"
    }
   ],
   "source": [
    "# Separate the charts by website\n",
    "\n",
    "livingspaces_vaders = vaders[vaders['Website'] == 'Livingspaces']\n",
    "rcwilley_vaders = vaders[vaders['Website'] == 'Rcwilley']\n",
    "\n",
    "fig, axs = plt.subplots(2, 3, figsize=(12, 6))\n",
    "sns.barplot(data=livingspaces_vaders, x='Rating', y='pos', ax=axs[0, 0])\n",
    "sns.barplot(data=livingspaces_vaders, x='Rating', y='neu', ax=axs[0, 1])\n",
    "sns.barplot(data=livingspaces_vaders, x='Rating', y='neg', ax=axs[0, 2])\n",
    "axs[0, 0].set_title('Livingspaces Positive')\n",
    "axs[0, 1].set_title('Livingspaces Neutral')\n",
    "axs[0, 2].set_title('Livingspaces Negative')\n",
    "\n",
    "sns.barplot(data=rcwilley_vaders, x='Rating', y='pos', ax=axs[1, 0])\n",
    "sns.barplot(data=rcwilley_vaders, x='Rating', y='neu', ax=axs[1, 1])\n",
    "sns.barplot(data=rcwilley_vaders, x='Rating', y='neg', ax=axs[1, 2])\n",
    "axs[1, 0].set_title('Rcwilley Positive')\n",
    "axs[1, 1].set_title('Rcwilley Neutral')\n",
    "axs[1, 2].set_title('Rcwilley Negative')\n",
    "\n",
    "plt.tight_layout()\n",
    "plt.show()\n"
   ]
  }
 ],
 "metadata": {
  "kernelspec": {
   "display_name": "Python 3",
   "language": "python",
   "name": "python3"
  },
  "language_info": {
   "codemirror_mode": {
    "name": "ipython",
    "version": 3
   },
   "file_extension": ".py",
   "mimetype": "text/x-python",
   "name": "python",
   "nbconvert_exporter": "python",
   "pygments_lexer": "ipython3",
   "version": "3.10.11"
  },
  "orig_nbformat": 4
 },
 "nbformat": 4,
 "nbformat_minor": 2
}
